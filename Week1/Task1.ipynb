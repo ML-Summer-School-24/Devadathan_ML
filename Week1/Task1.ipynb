{
 "cells": [
  {
   "cell_type": "code",
   "execution_count": 39,
   "id": "e72d2b59-2090-4208-afdb-82cc4663313c",
   "metadata": {},
   "outputs": [],
   "source": [
    "import pandas as pd"
   ]
  },
  {
   "cell_type": "code",
   "execution_count": 40,
   "id": "b7e58654-f4bb-4917-bf45-b7ff5b44a34f",
   "metadata": {},
   "outputs": [],
   "source": [
    "# Create a data frame with details of 10 students and columns as Roll Number, Name, Gender, Marks1, Marks2, Marks3.\n",
    "dict = {\n",
    "    'Roll Number': [1, 2, 3, 4, 5, 6, 7, 8, 9, 10],\n",
    "    'Name': [\"Rohan\", \"Akash\", \"Rahul\", \"Siddharth\", \"Arjun\",\"Priya\", \"Anjali\", \"Sonia\", \"Aisha\", \"Rani\"],\n",
    "    'Gender': ['M', 'M', 'M', 'M', 'M', 'F', 'F', 'F', 'F', 'F'],\n",
    "    'Marks1': [78, 65, 89, 95, 81, 72, 68, 90, 85, 77],\n",
    "    'Marks2': [82, 70, 69, 88, 75, 81, 79, 93, 82, 71],\n",
    "    'Marks3': [85, 78, 92, 79, 87, 84, 80, 88, 89, 82]\n",
    "}"
   ]
  },
  {
   "cell_type": "code",
   "execution_count": 41,
   "id": "93a4be6e-d855-427b-977f-b3d8cfb9cf5a",
   "metadata": {},
   "outputs": [],
   "source": [
    "df = pd.DataFrame(dict)"
   ]
  },
  {
   "cell_type": "code",
   "execution_count": 42,
   "id": "0caffbfc-7925-40ac-8077-a26f24378083",
   "metadata": {},
   "outputs": [
    {
     "data": {
      "text/html": [
       "<div>\n",
       "<style scoped>\n",
       "    .dataframe tbody tr th:only-of-type {\n",
       "        vertical-align: middle;\n",
       "    }\n",
       "\n",
       "    .dataframe tbody tr th {\n",
       "        vertical-align: top;\n",
       "    }\n",
       "\n",
       "    .dataframe thead th {\n",
       "        text-align: right;\n",
       "    }\n",
       "</style>\n",
       "<table border=\"1\" class=\"dataframe\">\n",
       "  <thead>\n",
       "    <tr style=\"text-align: right;\">\n",
       "      <th></th>\n",
       "      <th>Roll Number</th>\n",
       "      <th>Name</th>\n",
       "      <th>Gender</th>\n",
       "      <th>Marks1</th>\n",
       "      <th>Marks2</th>\n",
       "      <th>Marks3</th>\n",
       "    </tr>\n",
       "  </thead>\n",
       "  <tbody>\n",
       "    <tr>\n",
       "      <th>0</th>\n",
       "      <td>1</td>\n",
       "      <td>Rohan</td>\n",
       "      <td>M</td>\n",
       "      <td>78</td>\n",
       "      <td>82</td>\n",
       "      <td>85</td>\n",
       "    </tr>\n",
       "    <tr>\n",
       "      <th>1</th>\n",
       "      <td>2</td>\n",
       "      <td>Akash</td>\n",
       "      <td>M</td>\n",
       "      <td>65</td>\n",
       "      <td>70</td>\n",
       "      <td>78</td>\n",
       "    </tr>\n",
       "    <tr>\n",
       "      <th>2</th>\n",
       "      <td>3</td>\n",
       "      <td>Rahul</td>\n",
       "      <td>M</td>\n",
       "      <td>89</td>\n",
       "      <td>69</td>\n",
       "      <td>92</td>\n",
       "    </tr>\n",
       "    <tr>\n",
       "      <th>3</th>\n",
       "      <td>4</td>\n",
       "      <td>Siddharth</td>\n",
       "      <td>M</td>\n",
       "      <td>95</td>\n",
       "      <td>88</td>\n",
       "      <td>79</td>\n",
       "    </tr>\n",
       "    <tr>\n",
       "      <th>4</th>\n",
       "      <td>5</td>\n",
       "      <td>Arjun</td>\n",
       "      <td>M</td>\n",
       "      <td>81</td>\n",
       "      <td>75</td>\n",
       "      <td>87</td>\n",
       "    </tr>\n",
       "    <tr>\n",
       "      <th>5</th>\n",
       "      <td>6</td>\n",
       "      <td>Priya</td>\n",
       "      <td>F</td>\n",
       "      <td>72</td>\n",
       "      <td>81</td>\n",
       "      <td>84</td>\n",
       "    </tr>\n",
       "    <tr>\n",
       "      <th>6</th>\n",
       "      <td>7</td>\n",
       "      <td>Anjali</td>\n",
       "      <td>F</td>\n",
       "      <td>68</td>\n",
       "      <td>79</td>\n",
       "      <td>80</td>\n",
       "    </tr>\n",
       "    <tr>\n",
       "      <th>7</th>\n",
       "      <td>8</td>\n",
       "      <td>Sonia</td>\n",
       "      <td>F</td>\n",
       "      <td>90</td>\n",
       "      <td>93</td>\n",
       "      <td>88</td>\n",
       "    </tr>\n",
       "    <tr>\n",
       "      <th>8</th>\n",
       "      <td>9</td>\n",
       "      <td>Aisha</td>\n",
       "      <td>F</td>\n",
       "      <td>85</td>\n",
       "      <td>82</td>\n",
       "      <td>89</td>\n",
       "    </tr>\n",
       "    <tr>\n",
       "      <th>9</th>\n",
       "      <td>10</td>\n",
       "      <td>Rani</td>\n",
       "      <td>F</td>\n",
       "      <td>77</td>\n",
       "      <td>71</td>\n",
       "      <td>82</td>\n",
       "    </tr>\n",
       "  </tbody>\n",
       "</table>\n",
       "</div>"
      ],
      "text/plain": [
       "   Roll Number       Name Gender  Marks1  Marks2  Marks3\n",
       "0            1      Rohan      M      78      82      85\n",
       "1            2      Akash      M      65      70      78\n",
       "2            3      Rahul      M      89      69      92\n",
       "3            4  Siddharth      M      95      88      79\n",
       "4            5      Arjun      M      81      75      87\n",
       "5            6      Priya      F      72      81      84\n",
       "6            7     Anjali      F      68      79      80\n",
       "7            8      Sonia      F      90      93      88\n",
       "8            9      Aisha      F      85      82      89\n",
       "9           10       Rani      F      77      71      82"
      ]
     },
     "execution_count": 42,
     "metadata": {},
     "output_type": "execute_result"
    }
   ],
   "source": [
    "df"
   ]
  },
  {
   "cell_type": "code",
   "execution_count": 71,
   "id": "b45f6fb8-9880-4b9c-b2dc-59fe604bc588",
   "metadata": {},
   "outputs": [],
   "source": [
    "# Create a new column with total marks\n",
    "df['Total Marks'] = df[['Marks1', 'Marks2', 'Marks3']].sum(axis=1) #axis=1 - columns"
   ]
  },
  {
   "cell_type": "code",
   "execution_count": 73,
   "id": "bedd215d-83bd-4777-be1d-d80a4a2017a3",
   "metadata": {},
   "outputs": [
    {
     "data": {
      "text/html": [
       "<div>\n",
       "<style scoped>\n",
       "    .dataframe tbody tr th:only-of-type {\n",
       "        vertical-align: middle;\n",
       "    }\n",
       "\n",
       "    .dataframe tbody tr th {\n",
       "        vertical-align: top;\n",
       "    }\n",
       "\n",
       "    .dataframe thead th {\n",
       "        text-align: right;\n",
       "    }\n",
       "</style>\n",
       "<table border=\"1\" class=\"dataframe\">\n",
       "  <thead>\n",
       "    <tr style=\"text-align: right;\">\n",
       "      <th></th>\n",
       "      <th>Roll Number</th>\n",
       "      <th>Name</th>\n",
       "      <th>Gender</th>\n",
       "      <th>Marks1</th>\n",
       "      <th>Marks2</th>\n",
       "      <th>Marks3</th>\n",
       "      <th>Total Marks</th>\n",
       "    </tr>\n",
       "  </thead>\n",
       "  <tbody>\n",
       "    <tr>\n",
       "      <th>0</th>\n",
       "      <td>1</td>\n",
       "      <td>Rohan</td>\n",
       "      <td>M</td>\n",
       "      <td>78</td>\n",
       "      <td>82</td>\n",
       "      <td>85</td>\n",
       "      <td>245</td>\n",
       "    </tr>\n",
       "    <tr>\n",
       "      <th>1</th>\n",
       "      <td>2</td>\n",
       "      <td>Akash</td>\n",
       "      <td>M</td>\n",
       "      <td>65</td>\n",
       "      <td>70</td>\n",
       "      <td>78</td>\n",
       "      <td>213</td>\n",
       "    </tr>\n",
       "    <tr>\n",
       "      <th>2</th>\n",
       "      <td>3</td>\n",
       "      <td>Rahul</td>\n",
       "      <td>M</td>\n",
       "      <td>89</td>\n",
       "      <td>69</td>\n",
       "      <td>92</td>\n",
       "      <td>250</td>\n",
       "    </tr>\n",
       "    <tr>\n",
       "      <th>3</th>\n",
       "      <td>4</td>\n",
       "      <td>Siddharth</td>\n",
       "      <td>M</td>\n",
       "      <td>95</td>\n",
       "      <td>88</td>\n",
       "      <td>79</td>\n",
       "      <td>262</td>\n",
       "    </tr>\n",
       "    <tr>\n",
       "      <th>4</th>\n",
       "      <td>5</td>\n",
       "      <td>Arjun</td>\n",
       "      <td>M</td>\n",
       "      <td>81</td>\n",
       "      <td>75</td>\n",
       "      <td>87</td>\n",
       "      <td>243</td>\n",
       "    </tr>\n",
       "    <tr>\n",
       "      <th>5</th>\n",
       "      <td>6</td>\n",
       "      <td>Priya</td>\n",
       "      <td>F</td>\n",
       "      <td>72</td>\n",
       "      <td>81</td>\n",
       "      <td>84</td>\n",
       "      <td>237</td>\n",
       "    </tr>\n",
       "    <tr>\n",
       "      <th>6</th>\n",
       "      <td>7</td>\n",
       "      <td>Anjali</td>\n",
       "      <td>F</td>\n",
       "      <td>68</td>\n",
       "      <td>79</td>\n",
       "      <td>80</td>\n",
       "      <td>227</td>\n",
       "    </tr>\n",
       "    <tr>\n",
       "      <th>7</th>\n",
       "      <td>8</td>\n",
       "      <td>Sonia</td>\n",
       "      <td>F</td>\n",
       "      <td>90</td>\n",
       "      <td>93</td>\n",
       "      <td>88</td>\n",
       "      <td>271</td>\n",
       "    </tr>\n",
       "    <tr>\n",
       "      <th>8</th>\n",
       "      <td>9</td>\n",
       "      <td>Aisha</td>\n",
       "      <td>F</td>\n",
       "      <td>85</td>\n",
       "      <td>82</td>\n",
       "      <td>89</td>\n",
       "      <td>256</td>\n",
       "    </tr>\n",
       "    <tr>\n",
       "      <th>9</th>\n",
       "      <td>10</td>\n",
       "      <td>Rani</td>\n",
       "      <td>F</td>\n",
       "      <td>77</td>\n",
       "      <td>71</td>\n",
       "      <td>82</td>\n",
       "      <td>230</td>\n",
       "    </tr>\n",
       "  </tbody>\n",
       "</table>\n",
       "</div>"
      ],
      "text/plain": [
       "   Roll Number       Name Gender  Marks1  Marks2  Marks3  Total Marks\n",
       "0            1      Rohan      M      78      82      85          245\n",
       "1            2      Akash      M      65      70      78          213\n",
       "2            3      Rahul      M      89      69      92          250\n",
       "3            4  Siddharth      M      95      88      79          262\n",
       "4            5      Arjun      M      81      75      87          243\n",
       "5            6      Priya      F      72      81      84          237\n",
       "6            7     Anjali      F      68      79      80          227\n",
       "7            8      Sonia      F      90      93      88          271\n",
       "8            9      Aisha      F      85      82      89          256\n",
       "9           10       Rani      F      77      71      82          230"
      ]
     },
     "execution_count": 73,
     "metadata": {},
     "output_type": "execute_result"
    }
   ],
   "source": [
    "df"
   ]
  },
  {
   "cell_type": "code",
   "execution_count": 44,
   "id": "823dd487-474b-4b1a-bec8-4611a727cef4",
   "metadata": {},
   "outputs": [],
   "source": [
    "# Find the lowest marks in Marks1\n",
    "marks1_lowest = df['Marks1'].min()"
   ]
  },
  {
   "cell_type": "code",
   "execution_count": 45,
   "id": "4ee77ac5-518d-4f11-9c51-bda6919fc812",
   "metadata": {},
   "outputs": [
    {
     "data": {
      "text/plain": [
       "65"
      ]
     },
     "execution_count": 45,
     "metadata": {},
     "output_type": "execute_result"
    }
   ],
   "source": [
    "marks1_lowest"
   ]
  },
  {
   "cell_type": "code",
   "execution_count": 46,
   "id": "b30c374c-235b-42a6-94b1-870903fef41b",
   "metadata": {},
   "outputs": [],
   "source": [
    "# Find the Highest marks in Marks2\n",
    "marks2_highest = df['Marks2'].max()"
   ]
  },
  {
   "cell_type": "code",
   "execution_count": 47,
   "id": "635cf7cd-01d9-41a9-a856-c7813e84b8e6",
   "metadata": {},
   "outputs": [
    {
     "data": {
      "text/plain": [
       "93"
      ]
     },
     "execution_count": 47,
     "metadata": {},
     "output_type": "execute_result"
    }
   ],
   "source": [
    "marks2_highest"
   ]
  },
  {
   "cell_type": "code",
   "execution_count": 48,
   "id": "0311fe66-609f-4da1-a103-36435833a667",
   "metadata": {},
   "outputs": [],
   "source": [
    "# Find the average marks in Marks3\n",
    "marks3_average = df['Marks3'].mean()"
   ]
  },
  {
   "cell_type": "code",
   "execution_count": 49,
   "id": "34942db1-d7f6-4ac2-8416-abae677c19df",
   "metadata": {},
   "outputs": [
    {
     "data": {
      "text/plain": [
       "84.4"
      ]
     },
     "execution_count": 49,
     "metadata": {},
     "output_type": "execute_result"
    }
   ],
   "source": [
    "marks3_average"
   ]
  },
  {
   "cell_type": "code",
   "execution_count": 50,
   "id": "7169a848-2e7b-48db-be82-8e1018782f1e",
   "metadata": {},
   "outputs": [],
   "source": [
    "# Find student name with highest average\n",
    "highest_average_student = df.loc[df['Total Marks'].idxmax(), 'Name']"
   ]
  },
  {
   "cell_type": "code",
   "execution_count": 51,
   "id": "3696b73a-0586-416f-a2ac-3a3a5ffd7854",
   "metadata": {},
   "outputs": [
    {
     "data": {
      "text/plain": [
       "'Sonia'"
      ]
     },
     "execution_count": 51,
     "metadata": {},
     "output_type": "execute_result"
    }
   ],
   "source": [
    "highest_average_student"
   ]
  },
  {
   "cell_type": "code",
   "execution_count": 75,
   "id": "96bc7fb7-d7d3-4d78-97f3-b027495e82fe",
   "metadata": {},
   "outputs": [],
   "source": [
    "# Find how many students failed in Marks2 (<40)\n",
    "marks2_fail = df[df['Marks2'] < 40].shape[0]"
   ]
  },
  {
   "cell_type": "code",
   "execution_count": 77,
   "id": "6f1dbffb-5545-4484-bdb8-4c4347b52d9c",
   "metadata": {},
   "outputs": [
    {
     "data": {
      "text/plain": [
       "0"
      ]
     },
     "execution_count": 77,
     "metadata": {},
     "output_type": "execute_result"
    }
   ],
   "source": [
    "marks2_fail"
   ]
  },
  {
   "cell_type": "code",
   "execution_count": 53,
   "id": "d0f9dbed-d8da-4978-9584-b1b4f65df40f",
   "metadata": {},
   "outputs": [
    {
     "data": {
      "text/html": [
       "<div>\n",
       "<style scoped>\n",
       "    .dataframe tbody tr th:only-of-type {\n",
       "        vertical-align: middle;\n",
       "    }\n",
       "\n",
       "    .dataframe tbody tr th {\n",
       "        vertical-align: top;\n",
       "    }\n",
       "\n",
       "    .dataframe thead th {\n",
       "        text-align: right;\n",
       "    }\n",
       "</style>\n",
       "<table border=\"1\" class=\"dataframe\">\n",
       "  <thead>\n",
       "    <tr style=\"text-align: right;\">\n",
       "      <th></th>\n",
       "      <th>Roll Number</th>\n",
       "      <th>Marks1</th>\n",
       "      <th>Marks2</th>\n",
       "      <th>Marks3</th>\n",
       "      <th>Total Marks</th>\n",
       "    </tr>\n",
       "  </thead>\n",
       "  <tbody>\n",
       "    <tr>\n",
       "      <th>count</th>\n",
       "      <td>10.00000</td>\n",
       "      <td>10.000000</td>\n",
       "      <td>10.000000</td>\n",
       "      <td>10.00000</td>\n",
       "      <td>10.00000</td>\n",
       "    </tr>\n",
       "    <tr>\n",
       "      <th>mean</th>\n",
       "      <td>5.50000</td>\n",
       "      <td>80.000000</td>\n",
       "      <td>79.000000</td>\n",
       "      <td>84.40000</td>\n",
       "      <td>243.40000</td>\n",
       "    </tr>\n",
       "    <tr>\n",
       "      <th>std</th>\n",
       "      <td>3.02765</td>\n",
       "      <td>9.877022</td>\n",
       "      <td>7.888106</td>\n",
       "      <td>4.64758</td>\n",
       "      <td>17.40498</td>\n",
       "    </tr>\n",
       "    <tr>\n",
       "      <th>min</th>\n",
       "      <td>1.00000</td>\n",
       "      <td>65.000000</td>\n",
       "      <td>69.000000</td>\n",
       "      <td>78.00000</td>\n",
       "      <td>213.00000</td>\n",
       "    </tr>\n",
       "    <tr>\n",
       "      <th>25%</th>\n",
       "      <td>3.25000</td>\n",
       "      <td>73.250000</td>\n",
       "      <td>72.000000</td>\n",
       "      <td>80.50000</td>\n",
       "      <td>231.75000</td>\n",
       "    </tr>\n",
       "    <tr>\n",
       "      <th>50%</th>\n",
       "      <td>5.50000</td>\n",
       "      <td>79.500000</td>\n",
       "      <td>80.000000</td>\n",
       "      <td>84.50000</td>\n",
       "      <td>244.00000</td>\n",
       "    </tr>\n",
       "    <tr>\n",
       "      <th>75%</th>\n",
       "      <td>7.75000</td>\n",
       "      <td>88.000000</td>\n",
       "      <td>82.000000</td>\n",
       "      <td>87.75000</td>\n",
       "      <td>254.50000</td>\n",
       "    </tr>\n",
       "    <tr>\n",
       "      <th>max</th>\n",
       "      <td>10.00000</td>\n",
       "      <td>95.000000</td>\n",
       "      <td>93.000000</td>\n",
       "      <td>92.00000</td>\n",
       "      <td>271.00000</td>\n",
       "    </tr>\n",
       "  </tbody>\n",
       "</table>\n",
       "</div>"
      ],
      "text/plain": [
       "       Roll Number     Marks1     Marks2    Marks3  Total Marks\n",
       "count     10.00000  10.000000  10.000000  10.00000     10.00000\n",
       "mean       5.50000  80.000000  79.000000  84.40000    243.40000\n",
       "std        3.02765   9.877022   7.888106   4.64758     17.40498\n",
       "min        1.00000  65.000000  69.000000  78.00000    213.00000\n",
       "25%        3.25000  73.250000  72.000000  80.50000    231.75000\n",
       "50%        5.50000  79.500000  80.000000  84.50000    244.00000\n",
       "75%        7.75000  88.000000  82.000000  87.75000    254.50000\n",
       "max       10.00000  95.000000  93.000000  92.00000    271.00000"
      ]
     },
     "execution_count": 53,
     "metadata": {},
     "output_type": "execute_result"
    }
   ],
   "source": [
    "# Create a table with the 5-number summary of all the numeric attributes\n",
    "df.describe()"
   ]
  }
 ],
 "metadata": {
  "kernelspec": {
   "display_name": "Python 3 (ipykernel)",
   "language": "python",
   "name": "python3"
  },
  "language_info": {
   "codemirror_mode": {
    "name": "ipython",
    "version": 3
   },
   "file_extension": ".py",
   "mimetype": "text/x-python",
   "name": "python",
   "nbconvert_exporter": "python",
   "pygments_lexer": "ipython3",
   "version": "3.11.7"
  }
 },
 "nbformat": 4,
 "nbformat_minor": 5
}
